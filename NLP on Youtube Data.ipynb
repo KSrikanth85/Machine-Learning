{
 "cells": [
  {
   "cell_type": "code",
   "execution_count": 2,
   "id": "fd76e2ef",
   "metadata": {},
   "outputs": [
    {
     "name": "stdout",
     "output_type": "stream",
     "text": [
      "Requirement already satisfied: tensorflow in c:\\users\\harik\\anaconda3\\lib\\site-packages (2.13.0)\n",
      "Requirement already satisfied: tensorflow-intel==2.13.0 in c:\\users\\harik\\anaconda3\\lib\\site-packages (from tensorflow) (2.13.0)\n",
      "Requirement already satisfied: absl-py>=1.0.0 in c:\\users\\harik\\anaconda3\\lib\\site-packages (from tensorflow-intel==2.13.0->tensorflow) (1.4.0)\n",
      "Requirement already satisfied: h5py>=2.9.0 in c:\\users\\harik\\anaconda3\\lib\\site-packages (from tensorflow-intel==2.13.0->tensorflow) (3.7.0)\n",
      "Requirement already satisfied: gast<=0.4.0,>=0.2.1 in c:\\users\\harik\\anaconda3\\lib\\site-packages (from tensorflow-intel==2.13.0->tensorflow) (0.4.0)\n",
      "Requirement already satisfied: flatbuffers>=23.1.21 in c:\\users\\harik\\anaconda3\\lib\\site-packages (from tensorflow-intel==2.13.0->tensorflow) (23.5.26)\n",
      "Requirement already satisfied: packaging in c:\\users\\harik\\anaconda3\\lib\\site-packages (from tensorflow-intel==2.13.0->tensorflow) (22.0)\n",
      "Requirement already satisfied: typing-extensions<4.6.0,>=3.6.6 in c:\\users\\harik\\anaconda3\\lib\\site-packages (from tensorflow-intel==2.13.0->tensorflow) (4.4.0)\n",
      "Requirement already satisfied: libclang>=13.0.0 in c:\\users\\harik\\anaconda3\\lib\\site-packages (from tensorflow-intel==2.13.0->tensorflow) (16.0.6)\n",
      "Requirement already satisfied: termcolor>=1.1.0 in c:\\users\\harik\\anaconda3\\lib\\site-packages (from tensorflow-intel==2.13.0->tensorflow) (2.3.0)\n",
      "Requirement already satisfied: tensorflow-estimator<2.14,>=2.13.0 in c:\\users\\harik\\anaconda3\\lib\\site-packages (from tensorflow-intel==2.13.0->tensorflow) (2.13.0)\n",
      "Requirement already satisfied: keras<2.14,>=2.13.1 in c:\\users\\harik\\anaconda3\\lib\\site-packages (from tensorflow-intel==2.13.0->tensorflow) (2.13.1)\n",
      "Requirement already satisfied: wrapt>=1.11.0 in c:\\users\\harik\\anaconda3\\lib\\site-packages (from tensorflow-intel==2.13.0->tensorflow) (1.14.1)\n",
      "Requirement already satisfied: grpcio<2.0,>=1.24.3 in c:\\users\\harik\\anaconda3\\lib\\site-packages (from tensorflow-intel==2.13.0->tensorflow) (1.57.0)\n",
      "Requirement already satisfied: setuptools in c:\\users\\harik\\anaconda3\\lib\\site-packages (from tensorflow-intel==2.13.0->tensorflow) (65.6.3)\n",
      "Requirement already satisfied: numpy<=1.24.3,>=1.22 in c:\\users\\harik\\anaconda3\\lib\\site-packages (from tensorflow-intel==2.13.0->tensorflow) (1.23.5)\n",
      "Requirement already satisfied: opt-einsum>=2.3.2 in c:\\users\\harik\\anaconda3\\lib\\site-packages (from tensorflow-intel==2.13.0->tensorflow) (3.3.0)\n",
      "Requirement already satisfied: protobuf!=4.21.0,!=4.21.1,!=4.21.2,!=4.21.3,!=4.21.4,!=4.21.5,<5.0.0dev,>=3.20.3 in c:\\users\\harik\\anaconda3\\lib\\site-packages (from tensorflow-intel==2.13.0->tensorflow) (4.23.3)\n",
      "Requirement already satisfied: google-pasta>=0.1.1 in c:\\users\\harik\\anaconda3\\lib\\site-packages (from tensorflow-intel==2.13.0->tensorflow) (0.2.0)\n",
      "Requirement already satisfied: astunparse>=1.6.0 in c:\\users\\harik\\anaconda3\\lib\\site-packages (from tensorflow-intel==2.13.0->tensorflow) (1.6.3)\n",
      "Requirement already satisfied: tensorflow-io-gcs-filesystem>=0.23.1 in c:\\users\\harik\\anaconda3\\lib\\site-packages (from tensorflow-intel==2.13.0->tensorflow) (0.31.0)\n",
      "Requirement already satisfied: six>=1.12.0 in c:\\users\\harik\\anaconda3\\lib\\site-packages (from tensorflow-intel==2.13.0->tensorflow) (1.16.0)\n",
      "Requirement already satisfied: tensorboard<2.14,>=2.13 in c:\\users\\harik\\anaconda3\\lib\\site-packages (from tensorflow-intel==2.13.0->tensorflow) (2.13.0)\n",
      "Requirement already satisfied: wheel<1.0,>=0.23.0 in c:\\users\\harik\\anaconda3\\lib\\site-packages (from astunparse>=1.6.0->tensorflow-intel==2.13.0->tensorflow) (0.38.4)\n",
      "Requirement already satisfied: tensorboard-data-server<0.8.0,>=0.7.0 in c:\\users\\harik\\anaconda3\\lib\\site-packages (from tensorboard<2.14,>=2.13->tensorflow-intel==2.13.0->tensorflow) (0.7.1)\n",
      "Requirement already satisfied: requests<3,>=2.21.0 in c:\\users\\harik\\anaconda3\\lib\\site-packages (from tensorboard<2.14,>=2.13->tensorflow-intel==2.13.0->tensorflow) (2.28.1)\n",
      "Requirement already satisfied: werkzeug>=1.0.1 in c:\\users\\harik\\anaconda3\\lib\\site-packages (from tensorboard<2.14,>=2.13->tensorflow-intel==2.13.0->tensorflow) (2.2.2)\n",
      "Requirement already satisfied: google-auth<3,>=1.6.3 in c:\\users\\harik\\anaconda3\\lib\\site-packages (from tensorboard<2.14,>=2.13->tensorflow-intel==2.13.0->tensorflow) (2.22.0)\n",
      "Requirement already satisfied: google-auth-oauthlib<1.1,>=0.5 in c:\\users\\harik\\anaconda3\\lib\\site-packages (from tensorboard<2.14,>=2.13->tensorflow-intel==2.13.0->tensorflow) (1.0.0)\n",
      "Requirement already satisfied: markdown>=2.6.8 in c:\\users\\harik\\anaconda3\\lib\\site-packages (from tensorboard<2.14,>=2.13->tensorflow-intel==2.13.0->tensorflow) (3.4.1)\n",
      "Requirement already satisfied: rsa<5,>=3.1.4 in c:\\users\\harik\\anaconda3\\lib\\site-packages (from google-auth<3,>=1.6.3->tensorboard<2.14,>=2.13->tensorflow-intel==2.13.0->tensorflow) (4.9)\n",
      "Requirement already satisfied: urllib3<2.0 in c:\\users\\harik\\anaconda3\\lib\\site-packages (from google-auth<3,>=1.6.3->tensorboard<2.14,>=2.13->tensorflow-intel==2.13.0->tensorflow) (1.26.14)\n",
      "Requirement already satisfied: pyasn1-modules>=0.2.1 in c:\\users\\harik\\anaconda3\\lib\\site-packages (from google-auth<3,>=1.6.3->tensorboard<2.14,>=2.13->tensorflow-intel==2.13.0->tensorflow) (0.2.8)\n",
      "Requirement already satisfied: cachetools<6.0,>=2.0.0 in c:\\users\\harik\\anaconda3\\lib\\site-packages (from google-auth<3,>=1.6.3->tensorboard<2.14,>=2.13->tensorflow-intel==2.13.0->tensorflow) (5.3.1)\n",
      "Requirement already satisfied: requests-oauthlib>=0.7.0 in c:\\users\\harik\\anaconda3\\lib\\site-packages (from google-auth-oauthlib<1.1,>=0.5->tensorboard<2.14,>=2.13->tensorflow-intel==2.13.0->tensorflow) (1.3.1)\n",
      "Requirement already satisfied: importlib-metadata>=4.4 in c:\\users\\harik\\anaconda3\\lib\\site-packages (from markdown>=2.6.8->tensorboard<2.14,>=2.13->tensorflow-intel==2.13.0->tensorflow) (6.6.0)\n",
      "Requirement already satisfied: certifi>=2017.4.17 in c:\\users\\harik\\anaconda3\\lib\\site-packages (from requests<3,>=2.21.0->tensorboard<2.14,>=2.13->tensorflow-intel==2.13.0->tensorflow) (2022.12.7)\n",
      "Requirement already satisfied: idna<4,>=2.5 in c:\\users\\harik\\anaconda3\\lib\\site-packages (from requests<3,>=2.21.0->tensorboard<2.14,>=2.13->tensorflow-intel==2.13.0->tensorflow) (3.4)\n",
      "Requirement already satisfied: charset-normalizer<3,>=2 in c:\\users\\harik\\anaconda3\\lib\\site-packages (from requests<3,>=2.21.0->tensorboard<2.14,>=2.13->tensorflow-intel==2.13.0->tensorflow) (2.0.4)\n",
      "Requirement already satisfied: MarkupSafe>=2.1.1 in c:\\users\\harik\\anaconda3\\lib\\site-packages (from werkzeug>=1.0.1->tensorboard<2.14,>=2.13->tensorflow-intel==2.13.0->tensorflow) (2.1.1)\n",
      "Requirement already satisfied: zipp>=0.5 in c:\\users\\harik\\anaconda3\\lib\\site-packages (from importlib-metadata>=4.4->markdown>=2.6.8->tensorboard<2.14,>=2.13->tensorflow-intel==2.13.0->tensorflow) (3.11.0)\n",
      "Requirement already satisfied: pyasn1<0.5.0,>=0.4.6 in c:\\users\\harik\\anaconda3\\lib\\site-packages (from pyasn1-modules>=0.2.1->google-auth<3,>=1.6.3->tensorboard<2.14,>=2.13->tensorflow-intel==2.13.0->tensorflow) (0.4.8)\n",
      "Requirement already satisfied: oauthlib>=3.0.0 in c:\\users\\harik\\anaconda3\\lib\\site-packages (from requests-oauthlib>=0.7.0->google-auth-oauthlib<1.1,>=0.5->tensorboard<2.14,>=2.13->tensorflow-intel==2.13.0->tensorflow) (3.2.2)\n"
     ]
    }
   ],
   "source": [
    "!pip install tensorflow"
   ]
  },
  {
   "cell_type": "code",
   "execution_count": 3,
   "id": "ee8111b3",
   "metadata": {},
   "outputs": [],
   "source": [
    "import tensorflow as tf\n",
    "from tensorflow.keras.models import Sequential\n",
    "from tensorflow.keras.layers import Embedding, Activation\n",
    "from tensorflow.keras.layers import LSTM, Dense\n",
    "from tensorflow.keras.layers import SpatialDropout1D\n",
    "from tensorflow.keras.preprocessing.sequence import pad_sequences\n",
    "from tensorflow.keras.preprocessing.text import one_hot\n",
    "from tensorflow.keras.utils import to_categorical\n",
    "from tensorflow.keras.callbacks import EarlyStopping, ReduceLROnPlateau\n",
    "from tensorflow.keras.callbacks import ModelCheckpoint\n",
    "from sklearn.model_selection import train_test_split\n",
    "from sklearn.utils import shuffle\n",
    "from nltk.stem import WordNetLemmatizer\n",
    "from nltk.corpus import stopwords\n",
    "import matplotlib.pyplot as plt\n",
    "import numpy as np\n",
    "import pandas as pd\n",
    "import re\n",
    "import nltk"
   ]
  },
  {
   "cell_type": "code",
   "execution_count": 4,
   "id": "e9a082c9",
   "metadata": {},
   "outputs": [],
   "source": [
    "gpus = tf.config.experimental.list_physical_devices('GPU')"
   ]
  },
  {
   "cell_type": "code",
   "execution_count": 5,
   "id": "2e23b21d",
   "metadata": {},
   "outputs": [],
   "source": [
    "for gpu in gpus:\n",
    "        tf.config.experimental.set_memory_growth(gpu, True)"
   ]
  },
  {
   "cell_type": "code",
   "execution_count": 6,
   "id": "75b22f47",
   "metadata": {},
   "outputs": [
    {
     "name": "stdout",
     "output_type": "stream",
     "text": [
      "C:\\Users\\harik\\Downloads\\ML Projects\n"
     ]
    }
   ],
   "source": [
    "import io\n",
    "%cd \"C:\\Users\\harik\\Downloads\\ML Projects\""
   ]
  },
  {
   "cell_type": "code",
   "execution_count": 7,
   "id": "e9320c23",
   "metadata": {},
   "outputs": [],
   "source": [
    "df = pd.read_csv(\"youtube_data.csv\")"
   ]
  },
  {
   "cell_type": "code",
   "execution_count": 8,
   "id": "4b06d68a",
   "metadata": {},
   "outputs": [],
   "source": [
    "df = df.dropna()"
   ]
  },
  {
   "cell_type": "code",
   "execution_count": 9,
   "id": "74fb7143",
   "metadata": {},
   "outputs": [],
   "source": [
    "classes = ['travel', 'science and technology', 'food', 'manufacturing', 'history', 'art and music']"
   ]
  },
  {
   "cell_type": "code",
   "execution_count": 10,
   "id": "8186d4be",
   "metadata": {},
   "outputs": [],
   "source": [
    "strToInt = {'travel': 0,\n",
    "            'science and technology': 1,\n",
    "            'food': 2,\n",
    "            'manufacturing': 3,\n",
    "            'history': 4,\n",
    "            'art and music': 5}"
   ]
  },
  {
   "cell_type": "code",
   "execution_count": 11,
   "id": "f00d6293",
   "metadata": {},
   "outputs": [],
   "source": [
    "X = df.drop(labels=[\"Category\", \"Video Id\"], axis=1)\n",
    "y = df[\"Category\"]\n",
    "X = X.reset_index()\n",
    "y = y.reset_index()\n",
    "y = y[\"Category\"]"
   ]
  },
  {
   "cell_type": "code",
   "execution_count": 12,
   "id": "35b4dc55",
   "metadata": {},
   "outputs": [],
   "source": [
    "for i in range(len(y)):\n",
    "    if y[i] in strToInt:\n",
    "        y[i] = strToInt[y[i]]"
   ]
  },
  {
   "cell_type": "code",
   "execution_count": 13,
   "id": "aa649d44",
   "metadata": {},
   "outputs": [],
   "source": [
    "y = to_categorical(y, num_classes=len(classes))"
   ]
  },
  {
   "cell_type": "code",
   "execution_count": 14,
   "id": "ef7f6d21",
   "metadata": {},
   "outputs": [],
   "source": [
    "training_text = []"
   ]
  },
  {
   "cell_type": "code",
   "execution_count": 15,
   "id": "93cf52fb",
   "metadata": {},
   "outputs": [],
   "source": [
    "for i in range(len(X)):\n",
    "    training_text.append(X[\"Title\"][i]+\" \"+X[\"Description\"][i])"
   ]
  },
  {
   "cell_type": "code",
   "execution_count": 16,
   "id": "45c92580",
   "metadata": {},
   "outputs": [],
   "source": [
    "stop_words = stopwords.words(\"english\")"
   ]
  },
  {
   "cell_type": "code",
   "execution_count": 17,
   "id": "40d06c72",
   "metadata": {},
   "outputs": [],
   "source": [
    "lemmatizer = WordNetLemmatizer()"
   ]
  },
  {
   "cell_type": "code",
   "execution_count": 18,
   "id": "71233ea1",
   "metadata": {},
   "outputs": [],
   "source": [
    "xtrain = []\n",
    "for sent in training_text:\n",
    "    sent = re.sub(\"[^a-zA-Z]\", \" \", sent)\n",
    "    ent = sent.lower().split()\n",
    "    sent = [lemmatizer.lemmatize(word) for word in sent if word not in set(stop_words)]\n",
    "    sent = \" \".join(sent)\n",
    "    xtrain.append(sent)"
   ]
  },
  {
   "cell_type": "code",
   "execution_count": 19,
   "id": "069c645a",
   "metadata": {},
   "outputs": [],
   "source": [
    "paddingLen = 70\n",
    "maxFeatureLen = 20\n",
    "vocabSize = 10000"
   ]
  },
  {
   "cell_type": "code",
   "execution_count": 20,
   "id": "6614c377",
   "metadata": {},
   "outputs": [],
   "source": [
    "oneHotEncoded = [one_hot(word, vocabSize) for word in xtrain]"
   ]
  },
  {
   "cell_type": "code",
   "execution_count": 21,
   "id": "988c47ee",
   "metadata": {},
   "outputs": [],
   "source": [
    "oneHotEncoded = pad_sequences(oneHotEncoded, \n",
    "                        truncating=\"post\", padding=\"post\",\n",
    "                        maxlen=paddingLen)"
   ]
  },
  {
   "cell_type": "code",
   "execution_count": 22,
   "id": "f878db0b",
   "metadata": {},
   "outputs": [],
   "source": [
    "oneHotEncoded = np.array(oneHotEncoded)\n",
    "X, y = shuffle(oneHotEncoded, y, random_state=2)\n",
    "X_train, X_test, y_train, y_test = train_test_split(X, y, test_size=0.2)"
   ]
  },
  {
   "cell_type": "markdown",
   "id": "1f11d148",
   "metadata": {},
   "source": [
    "# creating model"
   ]
  },
  {
   "cell_type": "code",
   "execution_count": 23,
   "id": "0d753759",
   "metadata": {},
   "outputs": [
    {
     "name": "stdout",
     "output_type": "stream",
     "text": [
      "Model: \"sequential\"\n",
      "_________________________________________________________________\n",
      " Layer (type)                Output Shape              Param #   \n",
      "=================================================================\n",
      " embedding (Embedding)       (None, 70, 20)            200000    \n",
      "                                                                 \n",
      " spatial_dropout1d (Spatial  (None, 70, 20)            0         \n",
      " Dropout1D)                                                      \n",
      "                                                                 \n",
      " lstm (LSTM)                 (None, 70, 128)           76288     \n",
      "                                                                 \n",
      " lstm_1 (LSTM)               (None, 128)               131584    \n",
      "                                                                 \n",
      " dense (Dense)               (None, 6)                 774       \n",
      "                                                                 \n",
      " activation (Activation)     (None, 6)                 0         \n",
      "                                                                 \n",
      "=================================================================\n",
      "Total params: 408646 (1.56 MB)\n",
      "Trainable params: 408646 (1.56 MB)\n",
      "Non-trainable params: 0 (0.00 Byte)\n",
      "_________________________________________________________________\n",
      "None\n"
     ]
    }
   ],
   "source": [
    "model = Sequential()\n",
    "model.add(Embedding(vocabSize, maxFeatureLen, input_length=paddingLen))\n",
    "model.add(SpatialDropout1D(0.2))\n",
    "model.add(LSTM(units=128, return_sequences=True, recurrent_dropout=0.2))\n",
    "model.add(LSTM(units=128))\n",
    "model.add(Dense(units=len(classes)))\n",
    "model.add(Activation(\"softmax\"))\n",
    "model.compile(optimizer=\"adam\", loss=\"binary_crossentropy\", metrics=[\"accuracy\"])\n",
    "print(model.summary())"
   ]
  },
  {
   "cell_type": "code",
   "execution_count": 24,
   "id": "611a73d9",
   "metadata": {},
   "outputs": [
    {
     "name": "stdout",
     "output_type": "stream",
     "text": [
      "Epoch 1/10\n",
      "334/334 [==============================] - 77s 200ms/step - loss: 0.4579 - accuracy: 0.1656 - val_loss: 0.4511 - val_accuracy: 0.1675\n",
      "Epoch 2/10\n",
      "334/334 [==============================] - 64s 193ms/step - loss: 0.4515 - accuracy: 0.1753 - val_loss: 0.4502 - val_accuracy: 0.2000\n",
      "Epoch 3/10\n",
      "334/334 [==============================] - 66s 199ms/step - loss: 0.4494 - accuracy: 0.1875 - val_loss: 0.4461 - val_accuracy: 0.1960\n",
      "Epoch 4/10\n",
      "334/334 [==============================] - 66s 199ms/step - loss: 0.4469 - accuracy: 0.1981 - val_loss: 0.4391 - val_accuracy: 0.2795\n",
      "Epoch 5/10\n",
      "334/334 [==============================] - 66s 199ms/step - loss: 0.4438 - accuracy: 0.2225 - val_loss: 0.4444 - val_accuracy: 0.2410\n",
      "Epoch 6/10\n",
      "334/334 [==============================] - 63s 189ms/step - loss: 0.4445 - accuracy: 0.2273 - val_loss: 0.4459 - val_accuracy: 0.2275\n",
      "Epoch 7/10\n",
      "334/334 [==============================] - 68s 203ms/step - loss: 0.4439 - accuracy: 0.2303 - val_loss: 0.4419 - val_accuracy: 0.2490\n",
      "Epoch 8/10\n",
      "334/334 [==============================] - 61s 182ms/step - loss: 0.4476 - accuracy: 0.1978 - val_loss: 0.4509 - val_accuracy: 0.1565\n",
      "Epoch 9/10\n",
      "334/334 [==============================] - 67s 200ms/step - loss: 0.4490 - accuracy: 0.1985 - val_loss: 0.4490 - val_accuracy: 0.1865\n",
      "Epoch 10/10\n",
      "334/334 [==============================] - 60s 181ms/step - loss: 0.4459 - accuracy: 0.2112 - val_loss: 0.4476 - val_accuracy: 0.1990\n"
     ]
    }
   ],
   "source": [
    "hist = model.fit(X_train, y_train, batch_size=24, epochs=10,\n",
    "                        validation_data=(X_test, y_test), verbose=1)"
   ]
  },
  {
   "cell_type": "code",
   "execution_count": 25,
   "id": "7a15fbdc",
   "metadata": {},
   "outputs": [],
   "source": [
    "train_loss = hist.history[\"loss\"]\n",
    "train_accuracy = hist.history[\"accuracy\"]\n",
    "val_loss = hist.history[\"val_loss\"]\n",
    "val_accuracy = hist.history[\"val_accuracy\"]"
   ]
  },
  {
   "cell_type": "code",
   "execution_count": 26,
   "id": "08e54825",
   "metadata": {},
   "outputs": [
    {
     "data": {
      "image/png": "[encoded data removed]",
      "text/plain": [
       "<Figure size 640x480 with 1 Axes>"
      ]
     },
     "metadata": {},
     "output_type": "display_data"
    }
   ],
   "source": [
    "plt.style.use(\"ggplot\")\n",
    "plt.figure()\n",
    "plt.plot(np.arange(0,10),train_loss,label=\"Train_Loss\")\n",
    "plt.plot(np.arange(0,10),train_accuracy,label=\"Train_Accuracy\")\n",
    "plt.plot(np.arange(0,10),val_accuracy,label=\"Validation_Accuracy\")\n",
    "plt.plot(np.arange(0,10),val_loss,label=\"Validation_Loss\")\n",
    "plt.title(\"Training Loss and Accuracy\")\n",
    "plt.xlabel(\"Epoch#\")\n",
    "plt.ylabel(\"Loss/Accuracy\")\n",
    "plt.legend()\n",
    "plt.savefig(\"output.png\")\n",
    "plt.show()\n",
    "plt.close()"
   ]
  },
  {
   "cell_type": "code",
   "execution_count": null,
   "id": "269aef4a",
   "metadata": {},
   "outputs": [],
   "source": []
  }
 ],
 "metadata": {
  "kernelspec": {
   "display_name": "Python 3 (ipykernel)",
   "language": "python",
   "name": "python3"
  },
  "language_info": {
   "codemirror_mode": {
    "name": "ipython",
    "version": 3
   },
   "file_extension": ".py",
   "mimetype": "text/x-python",
   "name": "python",
   "nbconvert_exporter": "python",
   "pygments_lexer": "ipython3",
   "version": "3.8.16"
  }
 },
 "nbformat": 4,
 "nbformat_minor": 5
}
