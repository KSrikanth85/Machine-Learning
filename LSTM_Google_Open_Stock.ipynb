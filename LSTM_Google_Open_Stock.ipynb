{
 "cells": [
  {
   "cell_type": "markdown",
   "id": "7dad6e16",
   "metadata": {},
   "source": [
    "# Time-Series-Forecasting By LSTM_Google_Open_Stock"
   ]
  },
  {
   "cell_type": "raw",
   "id": "43064f38",
   "metadata": {},
   "source": [
    "Learning to store information over long time intervals using recurrent backpropagation requires a very lengthy time, owing to insufficient, fading error backflow. \n",
    "To circumvent this, the researcher devised a Long Short-Term Memory (LSTM) network. \n",
    "Here in this code, I demonstrate how to use LSTMs to forecast stock open prices for a specific company.\n",
    "\n",
    "This system is built on Miniconda and Python (3.7.11). Keras(2.2.4-tf) and TensorFlow(2.1.0) are employed as deep learning platforms.\n",
    "\n",
    "Yahoo Finance is used to gather Google stock price data. The information covers the period from August 31, 2011, through August 30, 2021. \n",
    "There are a total of 2517 rows.\n",
    "\n",
    "The opening price (Open) of a company is the initial transaction price per share when the market begins on a trading day. \n",
    "In univariate time series forecasting, there is only one value used.\n",
    "\n",
    "The Open variable dataset must then be turned into a time series data set for our time series. Assume the array is [t1 t2 t3 t4 t5 t6], and two-time step will be used as input. \n",
    "Then output will be t3 for the time step of t1 and t2. The output for t2 and t3 input will be t4. As a result, the time step sets are {(t1, t2), (t2, t3), (t3, t4), (t4, t5)}, while the output set are {t3, t4, t5, t6}. \n",
    "For converting our dataset in time series, create dataset method is used. \n",
    "Three LSTM layers and one dense layer is used to create model. ReLU is used as an activation function in the first and second LSTM layers. \n",
    "Mean squared error set as loss function and Adam is set as optimizer."
   ]
  },
  {
   "cell_type": "markdown",
   "id": "9f99eb5c",
   "metadata": {},
   "source": [
    "# Importing the Libraries"
   ]
  },
  {
   "cell_type": "code",
   "execution_count": 1,
   "id": "3c1d2528",
   "metadata": {},
   "outputs": [],
   "source": [
    "import pandas as pd\n",
    "import numpy as np\n",
    "import matplotlib.pyplot as plt\n",
    "%matplotlib inline"
   ]
  },
  {
   "cell_type": "markdown",
   "id": "47413f8a",
   "metadata": {},
   "source": [
    "# Importing Data Set"
   ]
  },
  {
   "cell_type": "code",
   "execution_count": 4,
   "id": "c60caf86",
   "metadata": {},
   "outputs": [
    {
     "name": "stdout",
     "output_type": "stream",
     "text": [
      "C:\\Users\\harik\\Downloads\\ML Projects\n"
     ]
    }
   ],
   "source": [
    "import io\n",
    "%cd \"C:\\Users\\harik\\Downloads\\ML Projects\""
   ]
  },
  {
   "cell_type": "code",
   "execution_count": 5,
   "id": "c6ee5b89",
   "metadata": {},
   "outputs": [],
   "source": [
    "df=pd.read_csv('GOOG.csv')"
   ]
  },
  {
   "cell_type": "code",
   "execution_count": 6,
   "id": "2786d808",
   "metadata": {},
   "outputs": [
    {
     "data": {
      "text/html": [
       "<div>\n",
       "<style scoped>\n",
       "    .dataframe tbody tr th:only-of-type {\n",
       "        vertical-align: middle;\n",
       "    }\n",
       "\n",
       "    .dataframe tbody tr th {\n",
       "        vertical-align: top;\n",
       "    }\n",
       "\n",
       "    .dataframe thead th {\n",
       "        text-align: right;\n",
       "    }\n",
       "</style>\n",
       "<table border=\"1\" class=\"dataframe\">\n",
       "  <thead>\n",
       "    <tr style=\"text-align: right;\">\n",
       "      <th></th>\n",
       "      <th>Date</th>\n",
       "      <th>Open</th>\n",
       "      <th>High</th>\n",
       "      <th>Low</th>\n",
       "      <th>Close</th>\n",
       "      <th>Adj Close</th>\n",
       "      <th>Volume</th>\n",
       "    </tr>\n",
       "  </thead>\n",
       "  <tbody>\n",
       "    <tr>\n",
       "      <th>0</th>\n",
       "      <td>2011-08-31</td>\n",
       "      <td>271.352905</td>\n",
       "      <td>272.130005</td>\n",
       "      <td>266.999207</td>\n",
       "      <td>269.469971</td>\n",
       "      <td>269.469971</td>\n",
       "      <td>5406790</td>\n",
       "    </tr>\n",
       "    <tr>\n",
       "      <th>1</th>\n",
       "      <td>2011-09-01</td>\n",
       "      <td>269.365356</td>\n",
       "      <td>270.899597</td>\n",
       "      <td>264.618134</td>\n",
       "      <td>265.255768</td>\n",
       "      <td>265.255768</td>\n",
       "      <td>4849108</td>\n",
       "    </tr>\n",
       "    <tr>\n",
       "      <th>2</th>\n",
       "      <td>2011-09-02</td>\n",
       "      <td>261.255737</td>\n",
       "      <td>262.974304</td>\n",
       "      <td>259.392731</td>\n",
       "      <td>261.440063</td>\n",
       "      <td>261.440063</td>\n",
       "      <td>4820401</td>\n",
       "    </tr>\n",
       "    <tr>\n",
       "      <th>3</th>\n",
       "      <td>2011-09-06</td>\n",
       "      <td>254.446274</td>\n",
       "      <td>260.403931</td>\n",
       "      <td>254.296829</td>\n",
       "      <td>260.115021</td>\n",
       "      <td>260.115021</td>\n",
       "      <td>5451959</td>\n",
       "    </tr>\n",
       "    <tr>\n",
       "      <th>4</th>\n",
       "      <td>2011-09-07</td>\n",
       "      <td>264.234589</td>\n",
       "      <td>266.969330</td>\n",
       "      <td>262.715271</td>\n",
       "      <td>266.017914</td>\n",
       "      <td>266.017914</td>\n",
       "      <td>5532259</td>\n",
       "    </tr>\n",
       "  </tbody>\n",
       "</table>\n",
       "</div>"
      ],
      "text/plain": [
       "         Date        Open        High         Low       Close   Adj Close  \\\n",
       "0  2011-08-31  271.352905  272.130005  266.999207  269.469971  269.469971   \n",
       "1  2011-09-01  269.365356  270.899597  264.618134  265.255768  265.255768   \n",
       "2  2011-09-02  261.255737  262.974304  259.392731  261.440063  261.440063   \n",
       "3  2011-09-06  254.446274  260.403931  254.296829  260.115021  260.115021   \n",
       "4  2011-09-07  264.234589  266.969330  262.715271  266.017914  266.017914   \n",
       "\n",
       "    Volume  \n",
       "0  5406790  \n",
       "1  4849108  \n",
       "2  4820401  \n",
       "3  5451959  \n",
       "4  5532259  "
      ]
     },
     "execution_count": 6,
     "metadata": {},
     "output_type": "execute_result"
    }
   ],
   "source": [
    "df.head()"
   ]
  },
  {
   "cell_type": "code",
   "execution_count": 7,
   "id": "037f96af",
   "metadata": {},
   "outputs": [],
   "source": [
    "dfopen=df.reset_index()['Open']"
   ]
  },
  {
   "cell_type": "code",
   "execution_count": 8,
   "id": "e562757b",
   "metadata": {},
   "outputs": [
    {
     "data": {
      "text/plain": [
       "[<matplotlib.lines.Line2D at 0x1edb1495fa0>]"
      ]
     },
     "execution_count": 8,
     "metadata": {},
     "output_type": "execute_result"
    },
    {
     "data": {
      "image/png": "[encoded data removed]",
      "text/plain": [
       "<Figure size 640x480 with 1 Axes>"
      ]
     },
     "metadata": {},
     "output_type": "display_data"
    }
   ],
   "source": [
    "plt.plot(dfopen)"
   ]
  },
  {
   "cell_type": "code",
   "execution_count": 9,
   "id": "2890b008",
   "metadata": {},
   "outputs": [
    {
     "data": {
      "text/plain": [
       "array([[0.01028413],\n",
       "       [0.00953411],\n",
       "       [0.00647387],\n",
       "       ...,\n",
       "       [0.98425656],\n",
       "       [0.98043763],\n",
       "       [1.        ]])"
      ]
     },
     "execution_count": 9,
     "metadata": {},
     "output_type": "execute_result"
    }
   ],
   "source": [
    "from sklearn.preprocessing import MinMaxScaler\n",
    "scaler=MinMaxScaler(feature_range=(0,1))\n",
    "dfopen=scaler.fit_transform(np.array(dfopen).reshape(-1,1))\n",
    "dfopen"
   ]
  },
  {
   "cell_type": "code",
   "execution_count": 10,
   "id": "7d159882",
   "metadata": {},
   "outputs": [],
   "source": [
    "training_size=int(len(dfopen)*0.65)\n",
    "test_size=len(dfopen)-training_size\n",
    "train_data,test_data=dfopen[0:training_size,:],dfopen[training_size:len(dfopen),:1]"
   ]
  },
  {
   "cell_type": "code",
   "execution_count": 11,
   "id": "f49a1264",
   "metadata": {},
   "outputs": [
    {
     "data": {
      "text/plain": [
       "(1635, 881)"
      ]
     },
     "execution_count": 11,
     "metadata": {},
     "output_type": "execute_result"
    }
   ],
   "source": [
    "training_size,test_size"
   ]
  },
  {
   "cell_type": "markdown",
   "id": "73deeba0",
   "metadata": {},
   "source": [
    "# convert an array of values into a dataset matrix"
   ]
  },
  {
   "cell_type": "code",
   "execution_count": 12,
   "id": "3e3bcdb3",
   "metadata": {},
   "outputs": [],
   "source": [
    "def create_dataset(dataset, time_step):\n",
    "    dataX, dataY = [], []\n",
    "    for i in range(len(dataset)-time_step-1):\n",
    "        a = dataset[i:(i+time_step), 0]   ###i=0, 0,1,2,3-----99   100 \n",
    "        dataX.append(a)\n",
    "        dataY.append(dataset[i + time_step, 0])\n",
    "    return np.array(dataX), np.array(dataY)"
   ]
  },
  {
   "cell_type": "markdown",
   "id": "9787734d",
   "metadata": {},
   "source": [
    "# reshape into X=t,t+1,t+2,t+3 and Y=t+4"
   ]
  },
  {
   "cell_type": "code",
   "execution_count": 13,
   "id": "a7cc250f",
   "metadata": {},
   "outputs": [],
   "source": [
    "time_step = 200\n",
    "X_train, y_train = create_dataset(train_data, time_step)\n",
    "X_test, ytest = create_dataset(test_data, time_step)"
   ]
  },
  {
   "cell_type": "code",
   "execution_count": 14,
   "id": "0096da6c",
   "metadata": {},
   "outputs": [
    {
     "name": "stdout",
     "output_type": "stream",
     "text": [
      "(1434, 200)\n",
      "(1434,)\n"
     ]
    },
    {
     "data": {
      "text/plain": [
       "(None, None)"
      ]
     },
     "execution_count": 14,
     "metadata": {},
     "output_type": "execute_result"
    }
   ],
   "source": [
    "print(X_train.shape), print(y_train.shape)"
   ]
  },
  {
   "cell_type": "code",
   "execution_count": 15,
   "id": "d30c1461",
   "metadata": {},
   "outputs": [
    {
     "name": "stdout",
     "output_type": "stream",
     "text": [
      "(680, 200)\n",
      "(680,)\n"
     ]
    },
    {
     "data": {
      "text/plain": [
       "(None, None)"
      ]
     },
     "execution_count": 15,
     "metadata": {},
     "output_type": "execute_result"
    }
   ],
   "source": [
    "print(X_test.shape), print(ytest.shape)"
   ]
  },
  {
   "cell_type": "markdown",
   "id": "13fb95c3",
   "metadata": {},
   "source": [
    "# reshape input to be [samples, time steps, features] which is required for LSTM"
   ]
  },
  {
   "cell_type": "code",
   "execution_count": 16,
   "id": "73b0968a",
   "metadata": {},
   "outputs": [],
   "source": [
    "\n",
    "X_train =X_train.reshape(X_train.shape[0],X_train.shape[1] , 1)\n",
    "X_test = X_test.reshape(X_test.shape[0],X_test.shape[1] , 1)"
   ]
  },
  {
   "cell_type": "markdown",
   "id": "87157d2d",
   "metadata": {},
   "source": [
    "# Create the Stacked LSTM model"
   ]
  },
  {
   "cell_type": "code",
   "execution_count": 17,
   "id": "8900d289",
   "metadata": {},
   "outputs": [],
   "source": [
    "from tensorflow.keras.models import Sequential\n",
    "from tensorflow.keras.layers import Dense\n",
    "from tensorflow.keras.layers import LSTM"
   ]
  },
  {
   "cell_type": "code",
   "execution_count": 18,
   "id": "127755ab",
   "metadata": {},
   "outputs": [],
   "source": [
    "model=Sequential()\n",
    "model.add(LSTM(50,activation=\"relu\",return_sequences=True,input_shape=(time_step,1)))\n",
    "model.add(LSTM(50,activation=\"relu\",return_sequences=True))\n",
    "model.add(LSTM(50))\n",
    "model.add(Dense(1))\n",
    "model.compile(loss='mean_squared_error',optimizer='adam')"
   ]
  },
  {
   "cell_type": "code",
   "execution_count": 19,
   "id": "dee61e88",
   "metadata": {},
   "outputs": [
    {
     "name": "stdout",
     "output_type": "stream",
     "text": [
      "Model: \"sequential\"\n",
      "_________________________________________________________________\n",
      " Layer (type)                Output Shape              Param #   \n",
      "=================================================================\n",
      " lstm (LSTM)                 (None, 200, 50)           10400     \n",
      "                                                                 \n",
      " lstm_1 (LSTM)               (None, 200, 50)           20200     \n",
      "                                                                 \n",
      " lstm_2 (LSTM)               (None, 50)                20200     \n",
      "                                                                 \n",
      " dense (Dense)               (None, 1)                 51        \n",
      "                                                                 \n",
      "=================================================================\n",
      "Total params: 50851 (198.64 KB)\n",
      "Trainable params: 50851 (198.64 KB)\n",
      "Non-trainable params: 0 (0.00 Byte)\n",
      "_________________________________________________________________\n"
     ]
    }
   ],
   "source": [
    "model.summary()"
   ]
  },
  {
   "cell_type": "code",
   "execution_count": 20,
   "id": "c205b13c",
   "metadata": {},
   "outputs": [
    {
     "name": "stdout",
     "output_type": "stream",
     "text": [
      "Epoch 1/100\n",
      "23/23 [==============================] - 33s 1s/step - loss: 0.0091 - val_loss: 0.0934\n",
      "Epoch 2/100\n",
      "23/23 [==============================] - 22s 939ms/step - loss: 0.0013 - val_loss: 0.0329\n",
      "Epoch 3/100\n",
      "23/23 [==============================] - 73676s 3349s/step - loss: 1.7047e-04 - val_loss: 0.0034\n",
      "Epoch 4/100\n",
      "23/23 [==============================] - 20s 883ms/step - loss: 1.0370e-04 - val_loss: 0.0025\n",
      "Epoch 5/100\n",
      "23/23 [==============================] - 15s 648ms/step - loss: 1.0310e-04 - val_loss: 0.0018\n",
      "Epoch 6/100\n",
      "23/23 [==============================] - 14s 588ms/step - loss: 1.1450e-04 - val_loss: 0.0017\n",
      "Epoch 7/100\n",
      "23/23 [==============================] - 14s 600ms/step - loss: 1.0032e-04 - val_loss: 0.0026\n",
      "Epoch 8/100\n",
      "23/23 [==============================] - 13s 578ms/step - loss: 9.9995e-05 - val_loss: 0.0016\n",
      "Epoch 9/100\n",
      "23/23 [==============================] - 14s 624ms/step - loss: 9.8446e-05 - val_loss: 0.0018\n",
      "Epoch 10/100\n",
      "23/23 [==============================] - 16s 717ms/step - loss: 9.4161e-05 - val_loss: 0.0016\n",
      "Epoch 11/100\n",
      "23/23 [==============================] - 15s 653ms/step - loss: 9.5692e-05 - val_loss: 0.0015\n",
      "Epoch 12/100\n",
      "23/23 [==============================] - 15s 672ms/step - loss: 9.4883e-05 - val_loss: 0.0010\n",
      "Epoch 13/100\n",
      "23/23 [==============================] - 14s 608ms/step - loss: 9.2780e-05 - val_loss: 9.4244e-04\n",
      "Epoch 14/100\n",
      "23/23 [==============================] - 14s 627ms/step - loss: 1.0204e-04 - val_loss: 0.0012\n",
      "Epoch 15/100\n",
      "23/23 [==============================] - 15s 637ms/step - loss: 9.2705e-05 - val_loss: 0.0012\n",
      "Epoch 16/100\n",
      "23/23 [==============================] - 11s 453ms/step - loss: 8.7392e-05 - val_loss: 0.0013\n",
      "Epoch 17/100\n",
      "23/23 [==============================] - 11s 475ms/step - loss: 8.7043e-05 - val_loss: 8.1898e-04\n",
      "Epoch 18/100\n",
      "23/23 [==============================] - 10s 420ms/step - loss: 9.0157e-05 - val_loss: 7.8806e-04\n",
      "Epoch 19/100\n",
      "23/23 [==============================] - 9s 384ms/step - loss: 9.4452e-05 - val_loss: 7.7765e-04\n",
      "Epoch 20/100\n",
      "23/23 [==============================] - 12s 510ms/step - loss: 8.1671e-05 - val_loss: 7.9311e-04\n",
      "Epoch 21/100\n",
      "23/23 [==============================] - 10s 436ms/step - loss: 8.2423e-05 - val_loss: 8.0752e-04\n",
      "Epoch 22/100\n",
      "23/23 [==============================] - 11s 476ms/step - loss: 8.0809e-05 - val_loss: 8.0744e-04\n",
      "Epoch 23/100\n",
      "23/23 [==============================] - 11s 468ms/step - loss: 9.0364e-05 - val_loss: 8.7737e-04\n",
      "Epoch 24/100\n",
      "23/23 [==============================] - 10s 422ms/step - loss: 8.2883e-05 - val_loss: 7.2702e-04\n",
      "Epoch 25/100\n",
      "23/23 [==============================] - 11s 476ms/step - loss: 7.8004e-05 - val_loss: 8.8579e-04\n",
      "Epoch 26/100\n",
      "23/23 [==============================] - 13s 565ms/step - loss: 7.8898e-05 - val_loss: 8.8915e-04\n",
      "Epoch 27/100\n",
      "23/23 [==============================] - 13s 554ms/step - loss: 7.6383e-05 - val_loss: 9.7762e-04\n",
      "Epoch 28/100\n",
      "23/23 [==============================] - 19s 829ms/step - loss: 7.3634e-05 - val_loss: 8.8137e-04\n",
      "Epoch 29/100\n",
      "23/23 [==============================] - 17s 721ms/step - loss: 7.7371e-05 - val_loss: 9.5839e-04\n",
      "Epoch 30/100\n",
      "23/23 [==============================] - 14s 609ms/step - loss: 7.2350e-05 - val_loss: 9.9288e-04\n",
      "Epoch 31/100\n",
      "23/23 [==============================] - 18s 788ms/step - loss: 7.4219e-05 - val_loss: 9.9989e-04\n",
      "Epoch 32/100\n",
      "23/23 [==============================] - 15s 657ms/step - loss: 8.7969e-05 - val_loss: 6.8767e-04\n",
      "Epoch 33/100\n",
      "23/23 [==============================] - 15s 648ms/step - loss: 7.5557e-05 - val_loss: 0.0010\n",
      "Epoch 34/100\n",
      "23/23 [==============================] - 15s 635ms/step - loss: 7.4271e-05 - val_loss: 9.4279e-04\n",
      "Epoch 35/100\n",
      "23/23 [==============================] - 15s 662ms/step - loss: 6.8112e-05 - val_loss: 7.4567e-04\n",
      "Epoch 36/100\n",
      "23/23 [==============================] - 15s 654ms/step - loss: 7.0995e-05 - val_loss: 9.4823e-04\n",
      "Epoch 37/100\n",
      "23/23 [==============================] - 15s 650ms/step - loss: 6.9312e-05 - val_loss: 0.0010\n",
      "Epoch 38/100\n",
      "23/23 [==============================] - 14s 632ms/step - loss: 6.5413e-05 - val_loss: 0.0010\n",
      "Epoch 39/100\n",
      "23/23 [==============================] - 14s 598ms/step - loss: 6.9294e-05 - val_loss: 0.0020\n",
      "Epoch 40/100\n",
      "23/23 [==============================] - 13s 584ms/step - loss: 8.3379e-05 - val_loss: 0.0011\n",
      "Epoch 41/100\n",
      "23/23 [==============================] - 13s 581ms/step - loss: 6.8713e-05 - val_loss: 9.1399e-04\n",
      "Epoch 42/100\n",
      "23/23 [==============================] - 13s 570ms/step - loss: 7.9454e-05 - val_loss: 0.0012\n",
      "Epoch 43/100\n",
      "23/23 [==============================] - 13s 568ms/step - loss: 6.4263e-05 - val_loss: 6.5503e-04\n",
      "Epoch 44/100\n",
      "23/23 [==============================] - 13s 586ms/step - loss: 6.3276e-05 - val_loss: 7.7814e-04\n",
      "Epoch 45/100\n",
      "23/23 [==============================] - 13s 577ms/step - loss: 6.5831e-05 - val_loss: 0.0010\n",
      "Epoch 46/100\n",
      "23/23 [==============================] - 13s 584ms/step - loss: 8.8822e-05 - val_loss: 9.5976e-04\n",
      "Epoch 47/100\n",
      "23/23 [==============================] - 13s 568ms/step - loss: 6.9184e-05 - val_loss: 9.9877e-04\n",
      "Epoch 48/100\n",
      "23/23 [==============================] - 13s 551ms/step - loss: 6.9685e-05 - val_loss: 6.7830e-04\n",
      "Epoch 49/100\n",
      "23/23 [==============================] - 13s 568ms/step - loss: 7.0541e-05 - val_loss: 6.1321e-04\n",
      "Epoch 50/100\n",
      "23/23 [==============================] - 13s 555ms/step - loss: 6.9970e-05 - val_loss: 8.9081e-04\n",
      "Epoch 51/100\n",
      "23/23 [==============================] - 12s 542ms/step - loss: 6.3096e-05 - val_loss: 9.6001e-04\n",
      "Epoch 52/100\n",
      "23/23 [==============================] - 12s 524ms/step - loss: 7.8792e-05 - val_loss: 8.3672e-04\n",
      "Epoch 53/100\n",
      "23/23 [==============================] - 11s 494ms/step - loss: 6.2623e-05 - val_loss: 6.9337e-04\n",
      "Epoch 54/100\n",
      "23/23 [==============================] - 12s 503ms/step - loss: 6.1122e-05 - val_loss: 0.0012\n",
      "Epoch 55/100\n",
      "23/23 [==============================] - 12s 508ms/step - loss: 6.1605e-05 - val_loss: 6.0464e-04\n",
      "Epoch 56/100\n",
      "23/23 [==============================] - 11s 499ms/step - loss: 6.2945e-05 - val_loss: 5.7605e-04\n",
      "Epoch 57/100\n",
      "23/23 [==============================] - 12s 506ms/step - loss: 6.1598e-05 - val_loss: 8.8130e-04\n",
      "Epoch 58/100\n",
      "23/23 [==============================] - 12s 510ms/step - loss: 5.6204e-05 - val_loss: 9.1252e-04\n",
      "Epoch 59/100\n",
      "23/23 [==============================] - 12s 531ms/step - loss: 5.6126e-05 - val_loss: 8.3908e-04\n",
      "Epoch 60/100\n",
      "23/23 [==============================] - 12s 520ms/step - loss: 5.4599e-05 - val_loss: 7.5052e-04\n",
      "Epoch 61/100\n",
      "23/23 [==============================] - 11s 484ms/step - loss: 6.9648e-05 - val_loss: 8.2457e-04\n",
      "Epoch 62/100\n",
      "23/23 [==============================] - 12s 506ms/step - loss: 5.5900e-05 - val_loss: 9.5669e-04\n",
      "Epoch 63/100\n",
      "23/23 [==============================] - 12s 525ms/step - loss: 6.2117e-05 - val_loss: 5.8760e-04\n",
      "Epoch 64/100\n",
      "23/23 [==============================] - 12s 504ms/step - loss: 5.6232e-05 - val_loss: 6.1277e-04\n",
      "Epoch 65/100\n",
      "23/23 [==============================] - 12s 507ms/step - loss: 5.4640e-05 - val_loss: 6.0296e-04\n",
      "Epoch 66/100\n",
      "23/23 [==============================] - 12s 509ms/step - loss: 5.2669e-05 - val_loss: 4.9468e-04\n",
      "Epoch 67/100\n",
      "23/23 [==============================] - 11s 500ms/step - loss: 7.0592e-05 - val_loss: 6.1571e-04\n",
      "Epoch 68/100\n",
      "23/23 [==============================] - 11s 501ms/step - loss: 5.4312e-05 - val_loss: 8.4692e-04\n",
      "Epoch 69/100\n",
      "23/23 [==============================] - 12s 518ms/step - loss: 5.6718e-05 - val_loss: 5.7101e-04\n",
      "Epoch 70/100\n",
      "23/23 [==============================] - 12s 510ms/step - loss: 5.6654e-05 - val_loss: 5.1132e-04\n",
      "Epoch 71/100\n",
      "23/23 [==============================] - 12s 520ms/step - loss: 6.5284e-05 - val_loss: 6.9953e-04\n",
      "Epoch 72/100\n",
      "23/23 [==============================] - 12s 510ms/step - loss: 5.0976e-05 - val_loss: 6.6924e-04\n",
      "Epoch 73/100\n",
      "23/23 [==============================] - 12s 527ms/step - loss: 5.7806e-05 - val_loss: 7.1029e-04\n",
      "Epoch 74/100\n",
      "23/23 [==============================] - 17s 752ms/step - loss: 6.3471e-05 - val_loss: 5.9217e-04\n",
      "Epoch 75/100\n",
      "23/23 [==============================] - 16s 704ms/step - loss: 5.1640e-05 - val_loss: 6.7308e-04\n"
     ]
    },
    {
     "name": "stdout",
     "output_type": "stream",
     "text": [
      "Epoch 76/100\n",
      "23/23 [==============================] - 16s 671ms/step - loss: 5.0511e-05 - val_loss: 4.9439e-04\n",
      "Epoch 77/100\n",
      "23/23 [==============================] - 15s 654ms/step - loss: 4.7008e-05 - val_loss: 4.6094e-04\n",
      "Epoch 78/100\n",
      "23/23 [==============================] - 15s 623ms/step - loss: 5.5101e-05 - val_loss: 5.4808e-04\n",
      "Epoch 79/100\n",
      "23/23 [==============================] - 15s 648ms/step - loss: 5.1752e-05 - val_loss: 6.3644e-04\n",
      "Epoch 80/100\n",
      "23/23 [==============================] - 11s 476ms/step - loss: 5.0500e-05 - val_loss: 4.6882e-04\n",
      "Epoch 81/100\n",
      "23/23 [==============================] - 14s 621ms/step - loss: 5.0668e-05 - val_loss: 8.4090e-04\n",
      "Epoch 82/100\n",
      "23/23 [==============================] - 15s 659ms/step - loss: 5.6790e-05 - val_loss: 6.1100e-04\n",
      "Epoch 83/100\n",
      "23/23 [==============================] - 12s 514ms/step - loss: 4.5628e-05 - val_loss: 4.2458e-04\n",
      "Epoch 84/100\n",
      "23/23 [==============================] - 11s 489ms/step - loss: 4.5600e-05 - val_loss: 6.0410e-04\n",
      "Epoch 85/100\n",
      "23/23 [==============================] - 12s 514ms/step - loss: 4.7913e-05 - val_loss: 4.1473e-04\n",
      "Epoch 86/100\n",
      "23/23 [==============================] - 13s 560ms/step - loss: 4.4409e-05 - val_loss: 4.2257e-04\n",
      "Epoch 87/100\n",
      "23/23 [==============================] - 14s 630ms/step - loss: 4.3417e-05 - val_loss: 6.8690e-04\n",
      "Epoch 88/100\n",
      "23/23 [==============================] - 13s 574ms/step - loss: 5.4940e-05 - val_loss: 8.3139e-04\n",
      "Epoch 89/100\n",
      "23/23 [==============================] - 13s 565ms/step - loss: 4.4976e-05 - val_loss: 4.4543e-04\n",
      "Epoch 90/100\n",
      "23/23 [==============================] - 13s 550ms/step - loss: 4.3054e-05 - val_loss: 4.7535e-04\n",
      "Epoch 91/100\n",
      "23/23 [==============================] - 12s 509ms/step - loss: 4.1852e-05 - val_loss: 3.8841e-04\n",
      "Epoch 92/100\n",
      "23/23 [==============================] - 12s 517ms/step - loss: 4.4736e-05 - val_loss: 6.1648e-04\n",
      "Epoch 93/100\n",
      "23/23 [==============================] - 12s 524ms/step - loss: 4.2366e-05 - val_loss: 6.8379e-04\n",
      "Epoch 94/100\n",
      "23/23 [==============================] - 12s 533ms/step - loss: 5.0158e-05 - val_loss: 5.3923e-04\n",
      "Epoch 95/100\n",
      "23/23 [==============================] - 12s 537ms/step - loss: 4.5293e-05 - val_loss: 4.8886e-04\n",
      "Epoch 96/100\n",
      "23/23 [==============================] - 12s 518ms/step - loss: 4.3740e-05 - val_loss: 3.8984e-04\n",
      "Epoch 97/100\n",
      "23/23 [==============================] - 12s 538ms/step - loss: 4.1698e-05 - val_loss: 6.0670e-04\n",
      "Epoch 98/100\n",
      "23/23 [==============================] - 13s 566ms/step - loss: 3.9775e-05 - val_loss: 5.6432e-04\n",
      "Epoch 99/100\n",
      "23/23 [==============================] - 13s 578ms/step - loss: 3.9762e-05 - val_loss: 3.8071e-04\n",
      "Epoch 100/100\n",
      "23/23 [==============================] - 12s 509ms/step - loss: 4.6043e-05 - val_loss: 5.2631e-04\n"
     ]
    },
    {
     "data": {
      "text/plain": [
       "<keras.src.callbacks.History at 0x1edbda22250>"
      ]
     },
     "execution_count": 20,
     "metadata": {},
     "output_type": "execute_result"
    }
   ],
   "source": [
    "model.fit(X_train,y_train,validation_data=(X_test,ytest),epochs=100,batch_size=64,verbose=1)"
   ]
  },
  {
   "cell_type": "code",
   "execution_count": 21,
   "id": "fa07d4e3",
   "metadata": {},
   "outputs": [
    {
     "name": "stdout",
     "output_type": "stream",
     "text": [
      "45/45 [==============================] - 6s 112ms/step\n",
      "22/22 [==============================] - 2s 97ms/step\n"
     ]
    }
   ],
   "source": [
    "train_predict=model.predict(X_train)\n",
    "test_predict=model.predict(X_test)"
   ]
  },
  {
   "cell_type": "markdown",
   "id": "187f70c7",
   "metadata": {},
   "source": [
    "# Transformback to original form"
   ]
  },
  {
   "cell_type": "code",
   "execution_count": 22,
   "id": "a1aeb96f",
   "metadata": {},
   "outputs": [],
   "source": [
    "train_predict=scaler.inverse_transform(train_predict)\n",
    "test_predict=scaler.inverse_transform(test_predict)"
   ]
  },
  {
   "cell_type": "markdown",
   "id": "226a3240",
   "metadata": {},
   "source": [
    "# Calculate RMSE performance metrics"
   ]
  },
  {
   "cell_type": "code",
   "execution_count": 23,
   "id": "e77820b3",
   "metadata": {},
   "outputs": [
    {
     "data": {
      "text/plain": [
       "671.8752988239314"
      ]
     },
     "execution_count": 23,
     "metadata": {},
     "output_type": "execute_result"
    }
   ],
   "source": [
    "import math\n",
    "from sklearn.metrics import mean_squared_error\n",
    "math.sqrt(mean_squared_error(y_train,train_predict))"
   ]
  },
  {
   "cell_type": "markdown",
   "id": "027f1709",
   "metadata": {},
   "source": [
    "# Test Data RMSE"
   ]
  },
  {
   "cell_type": "code",
   "execution_count": 24,
   "id": "539cc87b",
   "metadata": {},
   "outputs": [
    {
     "data": {
      "text/plain": [
       "1666.0024257831685"
      ]
     },
     "execution_count": 24,
     "metadata": {},
     "output_type": "execute_result"
    }
   ],
   "source": [
    "math.sqrt(mean_squared_error(ytest,test_predict))"
   ]
  },
  {
   "cell_type": "markdown",
   "id": "15f151c6",
   "metadata": {},
   "source": [
    "# Plotting "
   ]
  },
  {
   "cell_type": "markdown",
   "id": "4ce945cc",
   "metadata": {},
   "source": [
    "# shift train predictions for plotting"
   ]
  },
  {
   "cell_type": "code",
   "execution_count": 25,
   "id": "56d0cae7",
   "metadata": {},
   "outputs": [
    {
     "data": {
      "image/png": "[encoded data removed]",
      "text/plain": [
       "<Figure size 640x480 with 1 Axes>"
      ]
     },
     "metadata": {},
     "output_type": "display_data"
    }
   ],
   "source": [
    "trainPredictPlot = np.empty_like(dfopen)\n",
    "trainPredictPlot[:, :] = np.nan\n",
    "trainPredictPlot[time_step:len(train_predict)+time_step, :] = train_predict\n",
    "# shift test predictions for plotting\n",
    "testPredictPlot = np.empty_like(dfopen)\n",
    "testPredictPlot[:, :] = np.nan\n",
    "testPredictPlot[len(train_predict)+(time_step*2)+1:len(dfopen)-1, :] = test_predict\n",
    "# plot baseline and predictions\n",
    "plt.plot(scaler.inverse_transform(dfopen))\n",
    "plt.plot(trainPredictPlot)\n",
    "plt.plot(testPredictPlot)\n",
    "plt.show()"
   ]
  },
  {
   "cell_type": "code",
   "execution_count": 26,
   "id": "d35fb35b",
   "metadata": {},
   "outputs": [
    {
     "data": {
      "text/plain": [
       "881"
      ]
     },
     "execution_count": 26,
     "metadata": {},
     "output_type": "execute_result"
    }
   ],
   "source": [
    "len(test_data)"
   ]
  },
  {
   "cell_type": "code",
   "execution_count": 27,
   "id": "614e3aec",
   "metadata": {},
   "outputs": [
    {
     "data": {
      "text/plain": [
       "(1, 200)"
      ]
     },
     "execution_count": 27,
     "metadata": {},
     "output_type": "execute_result"
    }
   ],
   "source": [
    "x_input=test_data[len(test_data)-time_step:].reshape(1,-1)\n",
    "x_input.shape"
   ]
  },
  {
   "cell_type": "code",
   "execution_count": 28,
   "id": "9358b25d",
   "metadata": {},
   "outputs": [],
   "source": [
    "temp_input=list(x_input)\n",
    "temp_input=temp_input[0].tolist()"
   ]
  },
  {
   "cell_type": "code",
   "execution_count": 29,
   "id": "18ae7a71",
   "metadata": {},
   "outputs": [
    {
     "data": {
      "text/plain": [
       "[0.5673719269033507,\n",
       " 0.5711455259977437,\n",
       " 0.5764549595461196,\n",
       " 0.5784323216979824,\n",
       " 0.5740134518754847,\n",
       " 0.5638813477410373,\n",
       " 0.5740058975074576,\n",
       " 0.5681153149815088,\n",
       " 0.5609077497678561,\n",
       " 0.5769040419893865,\n",
       " 0.5769794954806388,\n",
       " 0.580033844323481,\n",
       " 0.5774625271081585,\n",
       " 0.5864172705893147,\n",
       " 0.5961946786731238,\n",
       " 0.5963871360005369,\n",
       " 0.5943041017532339,\n",
       " 0.5909455895025862,\n",
       " 0.5916663597598523,\n",
       " 0.575738012699456,\n",
       " 0.5731946106834341,\n",
       " 0.5777002657379048,\n",
       " 0.573707814499873,\n",
       " 0.576900264616693,\n",
       " 0.5752512036992428,\n",
       " 0.5698436528008137,\n",
       " 0.5544964086800814,\n",
       " 0.5623907945893876,\n",
       " 0.5600058539238975,\n",
       " 0.5626058693603329,\n",
       " 0.5688832552274546,\n",
       " 0.5825267136966699,\n",
       " 0.5727983642878873,\n",
       " 0.5627643771261334,\n",
       " 0.5711115764361311,\n",
       " 0.55883227026594,\n",
       " 0.5503907309785824,\n",
       " 0.5645153327663304,\n",
       " 0.5825983898152287,\n",
       " 0.5818776195579627,\n",
       " 0.5697455354507603,\n",
       " 0.5639568012322895,\n",
       " 0.569632308987293,\n",
       " 0.5638096252072096,\n",
       " 0.5691153277981608,\n",
       " 0.599005991507811,\n",
       " 0.6241155345989383,\n",
       " 0.6232400799864742,\n",
       " 0.6326703003497632,\n",
       " 0.6206589049982374,\n",
       " 0.6182777877433497,\n",
       " 0.6037154356304153,\n",
       " 0.6045569870965356,\n",
       " 0.6073494134451153,\n",
       " 0.6333835162390021,\n",
       " 0.6901535187508153,\n",
       " 0.6886025291455096,\n",
       " 0.6890214390224975,\n",
       " 0.7025724001627907,\n",
       " 0.6922441073661455,\n",
       " 0.6981573077129863,\n",
       " 0.7001573337236502,\n",
       " 0.6966629771886432,\n",
       " 0.701987565888342,\n",
       " 0.7003422363056764,\n",
       " 0.7042629653872403,\n",
       " 0.7076139693077698,\n",
       " 0.6878893592941796,\n",
       " 0.6720440204704226,\n",
       " 0.6783911937697564,\n",
       " 0.6880591527627917,\n",
       " 0.6816704755338181,\n",
       " 0.6839346349904539,\n",
       " 0.691357274597692,\n",
       " 0.6879685901581254,\n",
       " 0.6714251445585435,\n",
       " 0.6901988460910574,\n",
       " 0.7007686088522334,\n",
       " 0.6890214390224975,\n",
       " 0.6896855962367097,\n",
       " 0.6905535425190557,\n",
       " 0.6946818376640869,\n",
       " 0.6861157862104504,\n",
       " 0.6924139008347576,\n",
       " 0.6912969302198538,\n",
       " 0.6856251998375438,\n",
       " 0.6784742480443047,\n",
       " 0.67839497114245,\n",
       " 0.6821157341891227,\n",
       " 0.6872743067929029,\n",
       " 0.6795157651679562,\n",
       " 0.6772704457821591,\n",
       " 0.6731270415237138,\n",
       " 0.684353452791624,\n",
       " 0.6849158073589072,\n",
       " 0.6995686300006903,\n",
       " 0.7203196476471582,\n",
       " 0.7465688252119903,\n",
       " 0.7479385975321455,\n",
       " 0.7674971910724573,\n",
       " 0.7594745156241787,\n",
       " 0.7630783212499596,\n",
       " 0.7612745299394023,\n",
       " 0.7664405648353917,\n",
       " 0.767127385531045,\n",
       " 0.7769462979218537,\n",
       " 0.7727877841726345,\n",
       " 0.7787915475015016,\n",
       " 0.7702481595293061,\n",
       " 0.7732594840594336,\n",
       " 0.7695764479470668,\n",
       " 0.7833349755281872,\n",
       " 0.7893991749333505,\n",
       " 0.8162464532376075,\n",
       " 0.8174483664360463,\n",
       " 0.8152445513572489,\n",
       " 0.814576617147703,\n",
       " 0.8021312945042333,\n",
       " 0.8016331537632996,\n",
       " 0.7949236836300315,\n",
       " 0.8135502091374656,\n",
       " 0.8040746614339345,\n",
       " 0.7727425489082103,\n",
       " 0.7613650925440687,\n",
       " 0.7611311773249247,\n",
       " 0.7727312171674897,\n",
       " 0.7793312382099838,\n",
       " 0.7897410652754621,\n",
       " 0.7623801684362257,\n",
       " 0.7863954047712501,\n",
       " 0.8007161948438359,\n",
       " 0.8010973321259687,\n",
       " 0.8210974073262515,\n",
       " 0.8183936088580824,\n",
       " 0.8274898619279185,\n",
       " 0.821837018031716,\n",
       " 0.8218521271451301,\n",
       " 0.8268748098040017,\n",
       " 0.811670964335656,\n",
       " 0.8220483618452367,\n",
       " 0.8329163453503641,\n",
       " 0.8437012289203943,\n",
       " 0.8510975201266756,\n",
       " 0.8490258179974529,\n",
       " 0.8606899795905496,\n",
       " 0.8563390088912771,\n",
       " 0.8627730134604928,\n",
       " 0.8607013113312701,\n",
       " 0.8552333700170939,\n",
       " 0.856610788781094,\n",
       " 0.8568711452317324,\n",
       " 0.8622296374551349,\n",
       " 0.8629843572740135,\n",
       " 0.866784397222541,\n",
       " 0.866056026559339,\n",
       " 0.8663805964589671,\n",
       " 0.8646635903803828,\n",
       " 0.8562186884388723,\n",
       " 0.8501522777046395,\n",
       " 0.8651692858667035,\n",
       " 0.8848674546487992,\n",
       " 0.8915958112681748,\n",
       " 0.8758145941949496,\n",
       " 0.8810560829595511,\n",
       " 0.8877655530928192,\n",
       " 0.8956750020776304,\n",
       " 0.9033731993247388,\n",
       " 0.9078901864972898,\n",
       " 0.9014071689135965,\n",
       " 0.8977430189099774,\n",
       " 0.889052409252153,\n",
       " 0.8949618322263004,\n",
       " 0.9090222662256077,\n",
       " 0.9287204350077035,\n",
       " 0.951286576082809,\n",
       " 0.9645771811498237,\n",
       " 0.9536412981441112,\n",
       " 0.937177866807647,\n",
       " 0.9306147893002868,\n",
       " 0.9304147772274868,\n",
       " 0.9343053801580407,\n",
       " 0.9361884023325436,\n",
       " 0.934520500966895,\n",
       " 0.9365317666424614,\n",
       " 0.9414676636920004,\n",
       " 0.9499998119992931,\n",
       " 0.9515356004153669,\n",
       " 0.9472337344290301,\n",
       " 0.9520978629068325,\n",
       " 0.9493997765356125,\n",
       " 0.9508413170501445,\n",
       " 0.942724302001866,\n",
       " 0.9302865341037833,\n",
       " 0.9424789625888238,\n",
       " 0.9569356429836778,\n",
       " 0.976143317468685,\n",
       " 0.9862527120837822,\n",
       " 0.9842565555216297,\n",
       " 0.9804376290869946,\n",
       " 0.9999999999999999]"
      ]
     },
     "execution_count": 29,
     "metadata": {},
     "output_type": "execute_result"
    }
   ],
   "source": [
    "temp_input"
   ]
  },
  {
   "cell_type": "code",
   "execution_count": null,
   "id": "848a7837",
   "metadata": {},
   "outputs": [],
   "source": []
  }
 ],
 "metadata": {
  "kernelspec": {
   "display_name": "Python 3 (ipykernel)",
   "language": "python",
   "name": "python3"
  },
  "language_info": {
   "codemirror_mode": {
    "name": "ipython",
    "version": 3
   },
   "file_extension": ".py",
   "mimetype": "text/x-python",
   "name": "python",
   "nbconvert_exporter": "python",
   "pygments_lexer": "ipython3",
   "version": "3.8.16"
  }
 },
 "nbformat": 4,
 "nbformat_minor": 5
}
